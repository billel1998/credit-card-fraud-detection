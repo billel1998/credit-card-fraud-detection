{
 "cells": [
  {
   "cell_type": "code",
   "execution_count": 1,
   "id": "2921fc3e",
   "metadata": {},
   "outputs": [],
   "source": [
    "import pandas as pd"
   ]
  },
  {
   "cell_type": "code",
   "execution_count": 2,
   "id": "4c6beebf",
   "metadata": {},
   "outputs": [],
   "source": [
    "fraud_df = pd.read_csv('creditcard.csv')"
   ]
  },
  {
   "cell_type": "code",
   "execution_count": 3,
   "id": "96af0cb1",
   "metadata": {},
   "outputs": [
    {
     "data": {
      "text/html": [
       "<div>\n",
       "<style scoped>\n",
       "    .dataframe tbody tr th:only-of-type {\n",
       "        vertical-align: middle;\n",
       "    }\n",
       "\n",
       "    .dataframe tbody tr th {\n",
       "        vertical-align: top;\n",
       "    }\n",
       "\n",
       "    .dataframe thead th {\n",
       "        text-align: right;\n",
       "    }\n",
       "</style>\n",
       "<table border=\"1\" class=\"dataframe\">\n",
       "  <thead>\n",
       "    <tr style=\"text-align: right;\">\n",
       "      <th></th>\n",
       "      <th>Time</th>\n",
       "      <th>V1</th>\n",
       "      <th>V2</th>\n",
       "      <th>V3</th>\n",
       "      <th>V4</th>\n",
       "      <th>V5</th>\n",
       "      <th>V6</th>\n",
       "      <th>V7</th>\n",
       "      <th>V8</th>\n",
       "      <th>V9</th>\n",
       "      <th>...</th>\n",
       "      <th>V21</th>\n",
       "      <th>V22</th>\n",
       "      <th>V23</th>\n",
       "      <th>V24</th>\n",
       "      <th>V25</th>\n",
       "      <th>V26</th>\n",
       "      <th>V27</th>\n",
       "      <th>V28</th>\n",
       "      <th>Amount</th>\n",
       "      <th>Class</th>\n",
       "    </tr>\n",
       "  </thead>\n",
       "  <tbody>\n",
       "    <tr>\n",
       "      <th>0</th>\n",
       "      <td>0.0</td>\n",
       "      <td>-1.359807</td>\n",
       "      <td>-0.072781</td>\n",
       "      <td>2.536347</td>\n",
       "      <td>1.378155</td>\n",
       "      <td>-0.338321</td>\n",
       "      <td>0.462388</td>\n",
       "      <td>0.239599</td>\n",
       "      <td>0.098698</td>\n",
       "      <td>0.363787</td>\n",
       "      <td>...</td>\n",
       "      <td>-0.018307</td>\n",
       "      <td>0.277838</td>\n",
       "      <td>-0.110474</td>\n",
       "      <td>0.066928</td>\n",
       "      <td>0.128539</td>\n",
       "      <td>-0.189115</td>\n",
       "      <td>0.133558</td>\n",
       "      <td>-0.021053</td>\n",
       "      <td>149.62</td>\n",
       "      <td>0</td>\n",
       "    </tr>\n",
       "    <tr>\n",
       "      <th>1</th>\n",
       "      <td>0.0</td>\n",
       "      <td>1.191857</td>\n",
       "      <td>0.266151</td>\n",
       "      <td>0.166480</td>\n",
       "      <td>0.448154</td>\n",
       "      <td>0.060018</td>\n",
       "      <td>-0.082361</td>\n",
       "      <td>-0.078803</td>\n",
       "      <td>0.085102</td>\n",
       "      <td>-0.255425</td>\n",
       "      <td>...</td>\n",
       "      <td>-0.225775</td>\n",
       "      <td>-0.638672</td>\n",
       "      <td>0.101288</td>\n",
       "      <td>-0.339846</td>\n",
       "      <td>0.167170</td>\n",
       "      <td>0.125895</td>\n",
       "      <td>-0.008983</td>\n",
       "      <td>0.014724</td>\n",
       "      <td>2.69</td>\n",
       "      <td>0</td>\n",
       "    </tr>\n",
       "    <tr>\n",
       "      <th>2</th>\n",
       "      <td>1.0</td>\n",
       "      <td>-1.358354</td>\n",
       "      <td>-1.340163</td>\n",
       "      <td>1.773209</td>\n",
       "      <td>0.379780</td>\n",
       "      <td>-0.503198</td>\n",
       "      <td>1.800499</td>\n",
       "      <td>0.791461</td>\n",
       "      <td>0.247676</td>\n",
       "      <td>-1.514654</td>\n",
       "      <td>...</td>\n",
       "      <td>0.247998</td>\n",
       "      <td>0.771679</td>\n",
       "      <td>0.909412</td>\n",
       "      <td>-0.689281</td>\n",
       "      <td>-0.327642</td>\n",
       "      <td>-0.139097</td>\n",
       "      <td>-0.055353</td>\n",
       "      <td>-0.059752</td>\n",
       "      <td>378.66</td>\n",
       "      <td>0</td>\n",
       "    </tr>\n",
       "    <tr>\n",
       "      <th>3</th>\n",
       "      <td>1.0</td>\n",
       "      <td>-0.966272</td>\n",
       "      <td>-0.185226</td>\n",
       "      <td>1.792993</td>\n",
       "      <td>-0.863291</td>\n",
       "      <td>-0.010309</td>\n",
       "      <td>1.247203</td>\n",
       "      <td>0.237609</td>\n",
       "      <td>0.377436</td>\n",
       "      <td>-1.387024</td>\n",
       "      <td>...</td>\n",
       "      <td>-0.108300</td>\n",
       "      <td>0.005274</td>\n",
       "      <td>-0.190321</td>\n",
       "      <td>-1.175575</td>\n",
       "      <td>0.647376</td>\n",
       "      <td>-0.221929</td>\n",
       "      <td>0.062723</td>\n",
       "      <td>0.061458</td>\n",
       "      <td>123.50</td>\n",
       "      <td>0</td>\n",
       "    </tr>\n",
       "    <tr>\n",
       "      <th>4</th>\n",
       "      <td>2.0</td>\n",
       "      <td>-1.158233</td>\n",
       "      <td>0.877737</td>\n",
       "      <td>1.548718</td>\n",
       "      <td>0.403034</td>\n",
       "      <td>-0.407193</td>\n",
       "      <td>0.095921</td>\n",
       "      <td>0.592941</td>\n",
       "      <td>-0.270533</td>\n",
       "      <td>0.817739</td>\n",
       "      <td>...</td>\n",
       "      <td>-0.009431</td>\n",
       "      <td>0.798278</td>\n",
       "      <td>-0.137458</td>\n",
       "      <td>0.141267</td>\n",
       "      <td>-0.206010</td>\n",
       "      <td>0.502292</td>\n",
       "      <td>0.219422</td>\n",
       "      <td>0.215153</td>\n",
       "      <td>69.99</td>\n",
       "      <td>0</td>\n",
       "    </tr>\n",
       "  </tbody>\n",
       "</table>\n",
       "<p>5 rows × 31 columns</p>\n",
       "</div>"
      ],
      "text/plain": [
       "   Time        V1        V2        V3        V4        V5        V6        V7  \\\n",
       "0   0.0 -1.359807 -0.072781  2.536347  1.378155 -0.338321  0.462388  0.239599   \n",
       "1   0.0  1.191857  0.266151  0.166480  0.448154  0.060018 -0.082361 -0.078803   \n",
       "2   1.0 -1.358354 -1.340163  1.773209  0.379780 -0.503198  1.800499  0.791461   \n",
       "3   1.0 -0.966272 -0.185226  1.792993 -0.863291 -0.010309  1.247203  0.237609   \n",
       "4   2.0 -1.158233  0.877737  1.548718  0.403034 -0.407193  0.095921  0.592941   \n",
       "\n",
       "         V8        V9  ...       V21       V22       V23       V24       V25  \\\n",
       "0  0.098698  0.363787  ... -0.018307  0.277838 -0.110474  0.066928  0.128539   \n",
       "1  0.085102 -0.255425  ... -0.225775 -0.638672  0.101288 -0.339846  0.167170   \n",
       "2  0.247676 -1.514654  ...  0.247998  0.771679  0.909412 -0.689281 -0.327642   \n",
       "3  0.377436 -1.387024  ... -0.108300  0.005274 -0.190321 -1.175575  0.647376   \n",
       "4 -0.270533  0.817739  ... -0.009431  0.798278 -0.137458  0.141267 -0.206010   \n",
       "\n",
       "        V26       V27       V28  Amount  Class  \n",
       "0 -0.189115  0.133558 -0.021053  149.62      0  \n",
       "1  0.125895 -0.008983  0.014724    2.69      0  \n",
       "2 -0.139097 -0.055353 -0.059752  378.66      0  \n",
       "3 -0.221929  0.062723  0.061458  123.50      0  \n",
       "4  0.502292  0.219422  0.215153   69.99      0  \n",
       "\n",
       "[5 rows x 31 columns]"
      ]
     },
     "execution_count": 3,
     "metadata": {},
     "output_type": "execute_result"
    }
   ],
   "source": [
    "fraud_df.head()"
   ]
  },
  {
   "cell_type": "code",
   "execution_count": 4,
   "id": "19cb91d8",
   "metadata": {},
   "outputs": [
    {
     "data": {
      "text/plain": [
       "Time      float64\n",
       "V1        float64\n",
       "V2        float64\n",
       "V3        float64\n",
       "V4        float64\n",
       "V5        float64\n",
       "V6        float64\n",
       "V7        float64\n",
       "V8        float64\n",
       "V9        float64\n",
       "V10       float64\n",
       "V11       float64\n",
       "V12       float64\n",
       "V13       float64\n",
       "V14       float64\n",
       "V15       float64\n",
       "V16       float64\n",
       "V17       float64\n",
       "V18       float64\n",
       "V19       float64\n",
       "V20       float64\n",
       "V21       float64\n",
       "V22       float64\n",
       "V23       float64\n",
       "V24       float64\n",
       "V25       float64\n",
       "V26       float64\n",
       "V27       float64\n",
       "V28       float64\n",
       "Amount    float64\n",
       "Class       int64\n",
       "dtype: object"
      ]
     },
     "execution_count": 4,
     "metadata": {},
     "output_type": "execute_result"
    }
   ],
   "source": [
    "fraud_df.dtypes"
   ]
  },
  {
   "cell_type": "code",
   "execution_count": 5,
   "id": "bd12f950",
   "metadata": {},
   "outputs": [
    {
     "name": "stdout",
     "output_type": "stream",
     "text": [
      "\n",
      "Data types:\n",
      " float64    30\n",
      "int64       1\n",
      "dtype: int64\n"
     ]
    }
   ],
   "source": [
    "print(\"\\nData types:\\n\", fraud_df.dtypes.value_counts())"
   ]
  },
  {
   "cell_type": "code",
   "execution_count": 6,
   "id": "aec0c65b",
   "metadata": {},
   "outputs": [],
   "source": [
    "class_counts=fraud_df['Class'].value_counts()"
   ]
  },
  {
   "cell_type": "code",
   "execution_count": 7,
   "id": "4cd9ce13",
   "metadata": {},
   "outputs": [
    {
     "name": "stdout",
     "output_type": "stream",
     "text": [
      "Number of frauds vs non-frauds:\n",
      " 0    284315\n",
      "1       492\n",
      "Name: Class, dtype: int64\n"
     ]
    }
   ],
   "source": [
    "print(\"Number of frauds vs non-frauds:\\n\", class_counts)"
   ]
  },
  {
   "cell_type": "code",
   "execution_count": 8,
   "id": "37dd5c81",
   "metadata": {},
   "outputs": [
    {
     "name": "stdout",
     "output_type": "stream",
     "text": [
      "\n",
      "Fraud ratio: 0.1727 %\n"
     ]
    }
   ],
   "source": [
    "print(\"\\nFraud ratio:\", round(class_counts[1] / class_counts.sum() * 100, 4), \"%\")"
   ]
  },
  {
   "cell_type": "code",
   "execution_count": 4,
   "id": "6570c508",
   "metadata": {},
   "outputs": [],
   "source": [
    "import matplotlib.pyplot as plt\n",
    "import seaborn as sns"
   ]
  },
  {
   "cell_type": "code",
   "execution_count": 10,
   "id": "74c4387e",
   "metadata": {},
   "outputs": [
    {
     "data": {
      "image/png": "[encoded data removed]",
      "text/plain": [
       "<Figure size 600x400 with 1 Axes>"
      ]
     },
     "metadata": {},
     "output_type": "display_data"
    }
   ],
   "source": [
    "# 3. Distribution of Amount by Class\n",
    "plt.figure(figsize=(6,4))\n",
    "sns.boxplot(data=fraud_df, x=\"Class\", y=\"Amount\")\n",
    "plt.title(\"Transaction Amount by Class (0 = Legit, 1 = Fraud)\")\n",
    "plt.show()"
   ]
  },
  {
   "cell_type": "code",
   "execution_count": 11,
   "id": "e14f4e52",
   "metadata": {},
   "outputs": [
    {
     "data": {
      "image/png": "[encoded data removed]",
      "text/plain": [
       "<Figure size 600x400 with 1 Axes>"
      ]
     },
     "metadata": {},
     "output_type": "display_data"
    }
   ],
   "source": [
    "# 4. Distribution of Time\n",
    "plt.figure(figsize=(6,4))\n",
    "sns.histplot(fraud_df[\"Time\"], bins=100, color=\"blue\", kde=False)\n",
    "plt.title(\"Transaction Distribution over Time (seconds)\")\n",
    "plt.xlabel(\"Time (seconds from first transaction)\")\n",
    "plt.show()"
   ]
  },
  {
   "cell_type": "code",
   "execution_count": 12,
   "id": "07f54c4a",
   "metadata": {},
   "outputs": [
    {
     "name": "stdout",
     "output_type": "stream",
     "text": [
      "\n",
      "Correlation with target:\n",
      " Time     -0.012323\n",
      "Amount    0.005632\n",
      "Class     1.000000\n",
      "Name: Class, dtype: float64\n"
     ]
    }
   ],
   "source": [
    "# 5. Quick check of correlations (Amount, Time vs target)\n",
    "corr = fraud_df[[\"Time\",\"Amount\",\"Class\"]].corr()\n",
    "print(\"\\nCorrelation with target:\\n\", corr[\"Class\"])"
   ]
  },
  {
   "cell_type": "code",
   "execution_count": 13,
   "id": "884d0372",
   "metadata": {},
   "outputs": [
    {
     "data": {
      "text/plain": [
       "Time      0\n",
       "V1        0\n",
       "V2        0\n",
       "V3        0\n",
       "V4        0\n",
       "V5        0\n",
       "V6        0\n",
       "V7        0\n",
       "V8        0\n",
       "V9        0\n",
       "V10       0\n",
       "V11       0\n",
       "V12       0\n",
       "V13       0\n",
       "V14       0\n",
       "V15       0\n",
       "V16       0\n",
       "V17       0\n",
       "V18       0\n",
       "V19       0\n",
       "V20       0\n",
       "V21       0\n",
       "V22       0\n",
       "V23       0\n",
       "V24       0\n",
       "V25       0\n",
       "V26       0\n",
       "V27       0\n",
       "V28       0\n",
       "Amount    0\n",
       "Class     0\n",
       "dtype: int64"
      ]
     },
     "execution_count": 13,
     "metadata": {},
     "output_type": "execute_result"
    }
   ],
   "source": [
    "fraud_df.isna().sum()"
   ]
  },
  {
   "cell_type": "code",
   "execution_count": 6,
   "id": "e9cdbef4",
   "metadata": {},
   "outputs": [
    {
     "name": "stdout",
     "output_type": "stream",
     "text": [
      "Train shape: (227845, 30) Test shape: (56962, 30)\n",
      "Fraud ratio in train: % 0.17292457591783889\n",
      "Fraud ratio in test: % 0.17204452090867595\n",
      "X_train_scaled shape: (227845, 30)\n"
     ]
    }
   ],
   "source": [
    "from sklearn.model_selection import train_test_split\n",
    "from sklearn.preprocessing import StandardScaler\n",
    "\n",
    "# 1. Features (X) and Target (y)\n",
    "X = fraud_df.drop(\"Class\", axis=1)\n",
    "y = fraud_df[\"Class\"]\n",
    "\n",
    "# 2. Train-test split (stratified to keep same fraud ratio)\n",
    "X_train, X_test, y_train, y_test = train_test_split(\n",
    "    X, y, test_size=0.2, random_state=42, stratify=y\n",
    ")\n",
    "\n",
    "print(\"Train shape:\", X_train.shape, \"Test shape:\", X_test.shape)\n",
    "print(\"Fraud ratio in train: %\", y_train.mean()*100)\n",
    "print(\"Fraud ratio in test: %\", y_test.mean()*100)\n",
    "\n",
    "# 3. Scale features\n",
    "scaler = StandardScaler()\n",
    "X_train_scaled = scaler.fit_transform(X_train)\n",
    "X_test_scaled = scaler.transform(X_test)\n",
    "\n",
    "print(\"X_train_scaled shape:\", X_train_scaled.shape)\n"
   ]
  },
  {
   "cell_type": "code",
   "execution_count": 8,
   "id": "d230f980",
   "metadata": {},
   "outputs": [
    {
     "name": "stdout",
     "output_type": "stream",
     "text": [
      "Confusion Matrix:\n",
      " [[55479  1385]\n",
      " [    8    90]]\n",
      "\n",
      "Classification Report:\n",
      "               precision    recall  f1-score   support\n",
      "\n",
      "           0     0.9999    0.9756    0.9876     56864\n",
      "           1     0.0610    0.9184    0.1144        98\n",
      "\n",
      "    accuracy                         0.9755     56962\n",
      "   macro avg     0.5304    0.9470    0.5510     56962\n",
      "weighted avg     0.9982    0.9755    0.9861     56962\n",
      "\n",
      "\n",
      "ROC-AUC Score: 0.9720881652464024\n"
     ]
    }
   ],
   "source": [
    "from sklearn.linear_model import LogisticRegression\n",
    "from sklearn.metrics import classification_report, confusion_matrix, roc_auc_score\n",
    "\n",
    "# 1. Train Logistic Regression with class weights to handle imbalance\n",
    "log_reg = LogisticRegression(class_weight=\"balanced\", max_iter=1000, random_state=42)\n",
    "log_reg.fit(X_train_scaled, y_train)\n",
    "\n",
    "# 2. Predictions\n",
    "y_pred = log_reg.predict(X_test_scaled)\n",
    "y_prob = log_reg.predict_proba(X_test_scaled)[:,1]  # probabilities for ROC-AUC\n",
    "\n",
    "# 3. Evaluation\n",
    "print(\"Confusion Matrix:\\n\", confusion_matrix(y_test, y_pred))\n",
    "print(\"\\nClassification Report:\\n\", classification_report(y_test, y_pred, digits=4))\n",
    "print(\"\\nROC-AUC Score:\", roc_auc_score(y_test, y_prob))\n"
   ]
  },
  {
   "cell_type": "markdown",
   "id": "ec0c438d",
   "metadata": {},
   "source": [
    "A. Plot Precision–Recall curve & compute Average Precision"
   ]
  },
  {
   "cell_type": "code",
   "execution_count": 10,
   "id": "08288dee",
   "metadata": {},
   "outputs": [
    {
     "name": "stdout",
     "output_type": "stream",
     "text": [
      "Average Precision (AP): 0.718934567134695\n"
     ]
    },
    {
     "data": {
      "image/png": "[encoded data removed]",
      "text/plain": [
       "<Figure size 600x400 with 1 Axes>"
      ]
     },
     "metadata": {},
     "output_type": "display_data"
    }
   ],
   "source": [
    "from sklearn.metrics import precision_recall_curve, average_precision_score\n",
    "import matplotlib.pyplot as plt\n",
    "\n",
    "precision, recall, thresholds = precision_recall_curve(y_test, y_prob)\n",
    "ap = average_precision_score(y_test, y_prob)\n",
    "print(\"Average Precision (AP):\", ap)\n",
    "\n",
    "plt.figure(figsize=(6,4))\n",
    "plt.plot(recall, precision, marker='.')\n",
    "plt.xlabel('Recall')\n",
    "plt.ylabel('Precision')\n",
    "plt.title(f'Precision-Recall Curve (AP={ap:.3f})')\n",
    "plt.grid(True)\n",
    "plt.show()\n"
   ]
  },
  {
   "cell_type": "code",
   "execution_count": 11,
   "id": "494bb69f",
   "metadata": {},
   "outputs": [
    {
     "name": "stdout",
     "output_type": "stream",
     "text": [
      "Threshold for recall >= 0.90: 0.7496\n"
     ]
    }
   ],
   "source": [
    "import numpy as np\n",
    "\n",
    "desired_recall = 0.90\n",
    "# thresholds array length = len(precision)-1; recall array starts at 1.0 and goes down\n",
    "idx = np.where(recall >= desired_recall)[0]\n",
    "if idx.size:\n",
    "    chosen_idx = idx[-1]  # pick the highest threshold that still achieves desired recall\n",
    "    chosen_threshold = thresholds[chosen_idx]\n",
    "    print(\"Threshold for recall >= {:.2f}: {:.4f}\".format(desired_recall, chosen_threshold))\n",
    "else:\n",
    "    print(\"No threshold achieves that recall\")\n"
   ]
  },
  {
   "cell_type": "code",
   "execution_count": 12,
   "id": "eb32ae7a",
   "metadata": {},
   "outputs": [
    {
     "name": "stdout",
     "output_type": "stream",
     "text": [
      "[[56324   540]\n",
      " [    9    89]]\n",
      "              precision    recall  f1-score   support\n",
      "\n",
      "           0     0.9998    0.9905    0.9952     56864\n",
      "           1     0.1415    0.9082    0.2448        98\n",
      "\n",
      "    accuracy                         0.9904     56962\n",
      "   macro avg     0.5707    0.9493    0.6200     56962\n",
      "weighted avg     0.9984    0.9904    0.9939     56962\n",
      "\n"
     ]
    }
   ],
   "source": [
    "y_pred_thresh = (y_prob >= chosen_threshold).astype(int)\n",
    "from sklearn.metrics import confusion_matrix, classification_report\n",
    "print(confusion_matrix(y_test, y_pred_thresh))\n",
    "print(classification_report(y_test, y_pred_thresh, digits=4))\n"
   ]
  },
  {
   "cell_type": "markdown",
   "id": "5127cba9",
   "metadata": {},
   "source": [
    "Precision–Recall Curve & Threshold Selection"
   ]
  },
  {
   "cell_type": "code",
   "execution_count": 13,
   "id": "4d55ef46",
   "metadata": {},
   "outputs": [
    {
     "name": "stdout",
     "output_type": "stream",
     "text": [
      "Average Precision (AP): 0.718934567134695\n"
     ]
    },
    {
     "data": {
      "image/png": "[encoded data removed]",
      "text/plain": [
       "<Figure size 600x400 with 1 Axes>"
      ]
     },
     "metadata": {},
     "output_type": "display_data"
    },
    {
     "name": "stdout",
     "output_type": "stream",
     "text": [
      "Threshold recall>=0.90: 0.7495945685371213\n",
      "Threshold max F1: 0.9999999398473326\n",
      "Threshold precision>=0.50: 1.0\n",
      "\n",
      "Recall-focused @ threshold 0.7496\n",
      "TP: 89 FP: 540 FN: 9 TN: 56324\n",
      "Precision=0.141, Recall=0.908\n",
      "\n",
      "Balanced (F1) @ threshold 1.0000\n",
      "TP: 80 FP: 16 FN: 18 TN: 56848\n",
      "Precision=0.833, Recall=0.816\n",
      "\n",
      "Precision-focused @ threshold 1.0000\n",
      "TP: 47 FP: 11 FN: 51 TN: 56853\n",
      "Precision=0.810, Recall=0.480\n"
     ]
    }
   ],
   "source": [
    "from sklearn.metrics import precision_recall_curve, average_precision_score, confusion_matrix\n",
    "import numpy as np\n",
    "import matplotlib.pyplot as plt\n",
    "\n",
    "# Compute precision, recall, thresholds\n",
    "precision, recall, thresholds = precision_recall_curve(y_test, y_prob)\n",
    "ap = average_precision_score(y_test, y_prob)\n",
    "print(\"Average Precision (AP):\", ap)\n",
    "\n",
    "# Plot PR curve\n",
    "plt.figure(figsize=(6,4))\n",
    "plt.plot(recall, precision, marker='.')\n",
    "plt.xlabel('Recall')\n",
    "plt.ylabel('Precision')\n",
    "plt.title(f'Precision-Recall Curve (AP={ap:.3f})')\n",
    "plt.grid(True)\n",
    "plt.show()\n",
    "\n",
    "# --- Pick 3 operating points ---\n",
    "# 1. Recall-focused (>= 0.90)\n",
    "recall_target = 0.90\n",
    "idx_recall = np.where(recall >= recall_target)[0][-1]\n",
    "thresh_recall = thresholds[idx_recall]\n",
    "\n",
    "# 2. Balanced (F1-score max)\n",
    "f1_scores = 2 * (precision * recall) / (precision + recall + 1e-6)\n",
    "idx_f1 = np.argmax(f1_scores)\n",
    "thresh_f1 = thresholds[idx_f1]\n",
    "\n",
    "# 3. Precision-focused (>= 0.50 if possible)\n",
    "precision_target = 0.50\n",
    "idx_prec = np.where(precision >= precision_target)[0]\n",
    "# Subtract 1 from idx_prec[-1] to match the thresholds array length\n",
    "thresh_prec = thresholds[idx_prec[-1] - 1] if idx_prec.size and idx_prec[-1] > 0 else thresholds[0]\n",
    "\n",
    "# Print thresholds\n",
    "print(\"Threshold recall>=0.90:\", thresh_recall)\n",
    "print(\"Threshold max F1:\", thresh_f1)\n",
    "print(\"Threshold precision>=0.50:\", thresh_prec)\n",
    "\n",
    "# Evaluate each threshold\n",
    "for name, t in [(\"Recall-focused\", thresh_recall),\n",
    "                (\"Balanced (F1)\", thresh_f1),\n",
    "                (\"Precision-focused\", thresh_prec)]:\n",
    "    preds = (y_prob >= t).astype(int)\n",
    "    tn, fp, fn, tp = confusion_matrix(y_test, preds).ravel()\n",
    "    prec = tp / (tp+fp) if tp+fp>0 else 0\n",
    "    rec = tp / (tp+fn) if tp+fn>0 else 0\n",
    "    print(f\"\\n{name} @ threshold {t:.4f}\")\n",
    "    print(\"TP:\", tp, \"FP:\", fp, \"FN:\", fn, \"TN:\", tn)\n",
    "    print(f\"Precision={prec:.3f}, Recall={rec:.3f}\")\n"
   ]
  },
  {
   "cell_type": "code",
   "execution_count": null,
   "id": "3adc392a",
   "metadata": {},
   "outputs": [
    {
     "name": "stdout",
     "output_type": "stream",
     "text": [
      "Exported fraud_predictions.csv with shape: (56962, 6)\n"
     ]
    }
   ],
   "source": [
    "# Build export dataframe only from test set\n",
    "X_test_reset = X_test.copy().reset_index(drop=True)\n",
    "y_test_reset = y_test.reset_index(drop=True)\n",
    "\n",
    "df_export = X_test_reset[[\"Time\", \"Amount\"]].copy()\n",
    "df_export[\"TransactionID\"] = df_export.index\n",
    "df_export[\"Fraud_Prob\"] = y_prob\n",
    "df_export[\"Predicted_Fraud\"] = (y_prob >= 0.75).astype(int)\n",
    "df_export[\"Actual_Fraud\"] = y_test_reset\n",
    "df_export[\"Actual_Fraud\"] = y_test_reset\n",
    "\n",
    "\n",
    "# Save to CSV\n",
    "df_export.to_csv(\"fraud_predictions.csv\", index=False)\n",
    "print(\"Exported fraud_predictions.csv with shape:\", df_export.shape)\n"
   ]
  }
 ],
 "metadata": {
  "kernelspec": {
   "display_name": "Python 3",
   "language": "python",
   "name": "python3"
  },
  "language_info": {
   "codemirror_mode": {
    "name": "ipython",
    "version": 3
   },
   "file_extension": ".py",
   "mimetype": "text/x-python",
   "name": "python",
   "nbconvert_exporter": "python",
   "pygments_lexer": "ipython3",
   "version": "3.10.4"
  }
 },
 "nbformat": 4,
 "nbformat_minor": 5
}
